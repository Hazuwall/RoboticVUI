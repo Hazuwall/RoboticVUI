{
 "metadata": {
  "language_info": {
   "codemirror_mode": {
    "name": "ipython",
    "version": 3
   },
   "file_extension": ".py",
   "mimetype": "text/x-python",
   "name": "python",
   "nbconvert_exporter": "python",
   "pygments_lexer": "ipython3",
   "version": "3.6.7-final"
  },
  "orig_nbformat": 2,
  "kernelspec": {
   "name": "python3",
   "display_name": "Python 3",
   "language": "python"
  }
 },
 "nbformat": 4,
 "nbformat_minor": 2,
 "cells": [
  {
   "cell_type": "code",
   "execution_count": null,
   "metadata": {},
   "outputs": [],
   "source": [
    "import matplotlib.pyplot as plt\n",
    "import numpy as np\n",
    "from timeit import default_timer as timer\n",
    "import config\n",
    "import dsp_utils\n",
    "import datasets\n",
    "from frontend import FrontEndProcessor\n",
    "\n",
    "processor = FrontEndProcessor(config)\n",
    "storage = datasets.HdfStorage(config.get_dataset_path('r'), \"raw/tree\")\n",
    "\n",
    "def get_frames():\n",
    "    return storage.fetch_subset(\"\",0,1, \"RANDOM\")[0]\n",
    "\n",
    "# Decorators and handlers\n",
    "def plot_vector(title, vector):\n",
    "    print(title)\n",
    "    plt.plot(vector)\n",
    "    plt.show()\n",
    "    \n",
    "def plot_matrix(title, matrix):\n",
    "    print(title)\n",
    "    plt.pcolormesh(range(matrix.shape[1]), range(matrix.shape[0]), matrix, cmap=plt.cm.Blues)\n",
    "    plt.show()\n",
    "        \n",
    "def fund_freq_mean_error(frames, error_seq):\n",
    "    sg = processor.make_spectrogram(frames)\n",
    "    std_sqrt = np.sqrt(np.std(sg, axis = 1))\n",
    "    mean_error = np.sqrt(np.sum(std_sqrt*np.square(error_seq)) / config.step_count)\n",
    "    return mean_error\n",
    "\n",
    "def before(fn):\n",
    "    def wrapped(*args,**kwargs):\n",
    "        dsp_utils.write(\"before.wav\", args[0], config.framerate)\n",
    "        sg = processor.make_spectrogram(args[0])\n",
    "        plot_matrix(\"Spectrogram before\", sg.T)\n",
    "        return fn(*args,**kwargs)\n",
    "    return wrapped\n",
    "    \n",
    "def after(fn):\n",
    "    def wrapped(*args,**kwargs):\n",
    "        out = fn(*args,**kwargs)\n",
    "        if out[0].ndim==1:\n",
    "            dsp_utils.write(\"after.wav\", out[0], out[1])\n",
    "            seg_length = dsp_utils.get_best_segment_length(out[1])\n",
    "            sg = dsp_utils.make_spectrogram(out[0], seg_length=seg_length, step_count=config.step_count)\n",
    "            plot_matrix(\"Spectrogram after\", sg.T)\n",
    "        else:\n",
    "            if out[0].dtype == np.complex_:\n",
    "                plot_matrix(\"Spectrogram after\", np.abs(out[0]).T)\n",
    "            else:\n",
    "                plot_matrix(\"Spectrogram after\", out[0].T)\n",
    "            frames = dsp_utils.restore_frames(out[0], frame_count=out[2])\n",
    "            dsp_utils.write(\"after.wav\", frames, out[1])\n",
    "        return out\n",
    "    return wrapped"
   ]
  },
  {
   "cell_type": "code",
   "execution_count": null,
   "metadata": {},
   "outputs": [],
   "source": [
    "def read_and_write_test(in_path, out_path):\n",
    "    data = dsp_utils.read(in_path)\n",
    "    dsp_utils.write(out_path, data, cfg.framerate)\n",
    "\n",
    "read_and_write_test(\"before.wav\", \"after.wav\")"
   ]
  },
  {
   "cell_type": "code",
   "execution_count": null,
   "metadata": {},
   "outputs": [],
   "source": [
    "@before\n",
    "def make_spectrogram_test(frames):\n",
    "    pass\n",
    "\n",
    "frames = get_frames()\n",
    "make_spectrogram_test(frames)"
   ]
  },
  {
   "cell_type": "code",
   "execution_count": null,
   "metadata": {},
   "outputs": [],
   "source": [
    "@before\n",
    "@after\n",
    "def restore_frames_test(frames):\n",
    "    sg = dsp_utils.make_spectrogram(frames, config.seg_length,\n",
    "                            step_count=config.step_count, keep_phase=True)\n",
    "    restored = dsp_utils.restore_frames(sg, frame_count=len(frames))\n",
    "    return restored, config.framerate\n",
    "\n",
    "frames = get_frames()\n",
    "restore_frames_test(frames)"
   ]
  },
  {
   "cell_type": "code",
   "execution_count": null,
   "metadata": {},
   "outputs": [],
   "source": [
    "def spectrogram_speed_test(frames, n):\n",
    "    start = timer()\n",
    "    for i in range(n):\n",
    "        processor.make_spectrogram(frames)\n",
    "    end = timer()\n",
    "    print(\"Time, ms\")\n",
    "    print((end-start)*1000/n)\n",
    "\n",
    "frames = get_frames()\n",
    "spectrogram_speed_test(frames, 1000)"
   ]
  },
  {
   "cell_type": "code",
   "execution_count": null,
   "metadata": {},
   "outputs": [],
   "source": [
    "@after\n",
    "@before\n",
    "def blur_test(frames):\n",
    "    sg = processor.make_spectrogram(frames)\n",
    "    sg = dsp_utils.blur(sg, config.blur_size)\n",
    "    return sg, config.framerate, len(frames)\n",
    "\n",
    "frames = get_frames()\n",
    "blur_test(frames)"
   ]
  },
  {
   "cell_type": "code",
   "execution_count": null,
   "metadata": {},
   "outputs": [],
   "source": [
    "@before\n",
    "@after\n",
    "def framerate_test(frames, new_framerate):\n",
    "    n = config.framerate // new_framerate\n",
    "    new_frames = frames[::n]\n",
    "    return new_frames, new_framerate\n",
    "\n",
    "frames = get_frames()\n",
    "framerate_test(frames, 8000)"
   ]
  },
  {
   "cell_type": "code",
   "execution_count": null,
   "metadata": {},
   "outputs": [],
   "source": [
    "@before\n",
    "def deviation_test(frames):\n",
    "    sg = processor.make_spectrogram(frames)\n",
    "    std = np.std(sg, axis=1)\n",
    "    plot_vector(\"Standart deviation\", std)\n",
    "\n",
    "frames = get_frames()\n",
    "deviation_test(frames)"
   ]
  },
  {
   "cell_type": "code",
   "execution_count": null,
   "metadata": {},
   "outputs": [],
   "source": [
    "@before\n",
    "def fund_freq_test(frames, new_framerate=None, new_step_count=None):\n",
    "    if new_framerate is None:\n",
    "        new_framerate = config.framerate\n",
    "    if new_step_count is None:\n",
    "        new_step_count = config.step_count\n",
    "\n",
    "    n = config.framerate // new_framerate\n",
    "    new_frames = frames[::n]\n",
    "    exact_funds = processor.get_fund_freq(frames)\n",
    "    plot_vector(\"Fundamental frequency\", exact_funds)\n",
    "    approx_funds = dsp_utils.get_fund_freq(new_frames, new_framerate, new_step_count,\n",
    "                                   min_freq=config.min_fund_freq, max_freq=config.max_fund_freq,\n",
    "                                   )\n",
    "    approx_funds = np.repeat(approx_funds, config.step_count//new_step_count)\n",
    "    error = exact_funds - approx_funds\n",
    "    plot_vector(\"Error sequence\", error)\n",
    "    print(\"Mean squared error\")\n",
    "    mean_error = fund_freq_mean_error(frames, error)\n",
    "    print(mean_error)\n",
    "\n",
    "frames = get_frames()\n",
    "fund_freq_test(frames)"
   ]
  },
  {
   "cell_type": "code",
   "execution_count": null,
   "metadata": {},
   "outputs": [],
   "source": [
    "def fund_freq_speed_test(frames, n):\n",
    "    start = timer()\n",
    "    for i in range(n):\n",
    "        processor.get_fund_freq(frames)\n",
    "    end = timer()\n",
    "    print(\"Time, ms\")\n",
    "    print((end-start)*1000/n)\n",
    "\n",
    "frames = get_frames()\n",
    "fund_freq_speed_test(frames, 1000)"
   ]
  },
  {
   "cell_type": "code",
   "execution_count": null,
   "metadata": {},
   "outputs": [],
   "source": [
    "@before\n",
    "def get_harmonics_test(frames):\n",
    "    sg = processor.make_spectrogram(frames)\n",
    "    fund_freqs = processor.get_fund_freq(frames)\n",
    "    harmonics, amps = processor.get_harmonics(fund_freqs, sg)\n",
    "    plot_vector(\"Fundamental frequency\", fund_freqs)\n",
    "    plot_matrix(\"Harmonics' amplitudes\", amps.T)\n",
    "\n",
    "frames = get_frames()\n",
    "get_harmonics_test(frames)"
   ]
  },
  {
   "cell_type": "code",
   "execution_count": null,
   "metadata": {},
   "outputs": [],
   "source": [
    "@after\n",
    "@before\n",
    "def restore_spectrogram_test(frames):\n",
    "    sg = dsp_utils.make_spectrogram(frames, seg_length=config.seg_length,\n",
    "                            step_count=config.step_count, keep_phase=True)\n",
    "    fund_freqs = processor.get_fund_freq(frames)\n",
    "    _, amps = processor.get_harmonics(fund_freqs, sg)\n",
    "    plot_matrix(\"Harmonics' amps\", np.abs(amps).T)\n",
    "    sg = dsp_utils.restore_spectrogram(amps, config.freq_count, config.freq_res)\n",
    "    return sg, len(frames), config.framerate\n",
    "\n",
    "frames = get_frames()\n",
    "restore_spectrogram_test(frames)"
   ]
  },
  {
   "cell_type": "code",
   "execution_count": null,
   "metadata": {},
   "outputs": [],
   "source": [
    "@before\n",
    "@after\n",
    "def norm_harmonics_test(frames):\n",
    "    sg = processor.make_spectrogram(frames)\n",
    "    fund_freqs = processor.get_fund_freq(frames)\n",
    "    _, amps = processor.get_harmonics(fund_freqs, sg)\n",
    "    plot_matrix(\"Harmonics' amps\", np.abs(amps).T)\n",
    "\n",
    "    normed = dsp_utils.norm_harmonics(sg, amps)\n",
    "    plot_matrix(\"Harmonics' amps normed\", np.abs(normed).T)\n",
    "\n",
    "    sg = dsp_utils.restore_spectrogram(normed, config.freq_count, config.freq_res)\n",
    "    return sg, len(frames), config.framerate\n",
    "\n",
    "frames = get_frames()\n",
    "norm_harmonics_test(frames)"
   ]
  },
  {
   "cell_type": "code",
   "execution_count": null,
   "metadata": {},
   "outputs": [],
   "source": [
    "def bulk_frontend_processing_test(count):\n",
    "    frames_list = []\n",
    "    for i in range(count):\n",
    "        frames_list.append(get_frames())\n",
    "    frames = np.stack(frames_list, axis=0)\n",
    "\n",
    "    flatten = np.reshape(frames, [-1])\n",
    "    dsp_utils.write(\"before.wav\", flatten, config.framerate)\n",
    "    result = np.zeros((len(flatten)))\n",
    "    for i in range(frames.shape[0]):\n",
    "        hs = processor.process(frames[i])\n",
    "        sg = dsp_utils.restore_spectrogram(hs, config.freq_count, config.freq_res)\n",
    "        result[i*config.framerate:(i+1)*config.framerate] = dsp_utils.restore_frames(sg,\n",
    "                                                                       frame_count=config.framerate)\n",
    "    dsp_utils.write(\"after.wav\", result, config.framerate)\n",
    "\n",
    "bulk_frontend_processing_test(10)"
   ]
  },
  {
   "cell_type": "code",
   "execution_count": null,
   "metadata": {},
   "outputs": [],
   "source": [
    "def frontend_processing_speed_test(frames, n):\n",
    "    start = timer()\n",
    "    for i in range(n):\n",
    "        processor.process(frames)\n",
    "    end = timer()\n",
    "    print(\"Time, ms\")\n",
    "    print((end-start)*1000/n)\n",
    "\n",
    "frames = get_frames()\n",
    "frontend_processing_speed_test(frames, 1000)"
   ]
  }
 ]
}